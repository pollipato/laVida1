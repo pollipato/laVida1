{
 "cells": [
  {
   "cell_type": "code",
   "execution_count": 1,
   "metadata": {},
   "outputs": [],
   "source": [
    "import numpy as np\n",
    "import pandas as pd"
   ]
  },
  {
   "cell_type": "code",
   "execution_count": 9,
   "metadata": {},
   "outputs": [],
   "source": [
    "resta_msi=pd.DataFrame({'Monto':[313, 500, 500, 458, 253, 75, 260, 223, 49, 472, 118, 245, 41, 1205, 649.60, 108.91, 303.39, 482.86, 361.06, 197.06, 221.08, 130, 149, 151, 281, 110],\n",
    "            'plazo':[6, 6,18, 6,8,8,8, 9, 9, 10, 12, 20, 12, 24, 6, 6,6,6,np.nan,np.nan, np.nan, 12, 12, 12, 12, 12], \n",
    "             'llevo septiembre':[1, 2, 2, 5, 6, 6,6,6,6,6,6,6,6, 13,1,1,1,1, np.nan,np.nan, np.nan, 6, 6, 6, 6, 6 ], \n",
    "             'banco':['Bancomer']*14+ ['Santander']*7+5*['Bancomer']         })"
   ]
  },
  {
   "cell_type": "code",
   "execution_count": 54,
   "metadata": {},
   "outputs": [
    {
     "data": {
      "text/plain": [
       "7856.959999999999"
      ]
     },
     "execution_count": 54,
     "metadata": {},
     "output_type": "execute_result"
    }
   ],
   "source": [
    "resta_msi['Monto'].sum()"
   ]
  },
  {
   "cell_type": "code",
   "execution_count": 55,
   "metadata": {},
   "outputs": [],
   "source": [
    "resta_msi['falta septiembre']=resta_msi['plazo']-resta_msi['llevo septiembre']"
   ]
  },
  {
   "cell_type": "code",
   "execution_count": 56,
   "metadata": {},
   "outputs": [],
   "source": [
    "resta=resta_msi.set_index('falta septiembre')"
   ]
  },
  {
   "cell_type": "code",
   "execution_count": 59,
   "metadata": {
    "scrolled": true
   },
   "outputs": [],
   "source": [
    "resta_corto=resta.drop(['plazo', 'llevo septiembre'], axis=1)\n",
    "resta_corto.sort_index(inplace= True)"
   ]
  },
  {
   "cell_type": "code",
   "execution_count": 68,
   "metadata": {},
   "outputs": [],
   "source": [
    "#resta_corto.drop('Monto_total', axis=1, inplace= True)\n",
    "resta_corto['Monto_total_mes']=resta_corto['Monto'].groupby(resta_corto.index).sum()\n",
    "\n"
   ]
  },
  {
   "cell_type": "code",
   "execution_count": 69,
   "metadata": {
    "scrolled": true
   },
   "outputs": [
    {
     "data": {
      "text/html": [
       "<div>\n",
       "<style scoped>\n",
       "    .dataframe tbody tr th:only-of-type {\n",
       "        vertical-align: middle;\n",
       "    }\n",
       "\n",
       "    .dataframe tbody tr th {\n",
       "        vertical-align: top;\n",
       "    }\n",
       "\n",
       "    .dataframe thead th {\n",
       "        text-align: right;\n",
       "    }\n",
       "</style>\n",
       "<table border=\"1\" class=\"dataframe\">\n",
       "  <thead>\n",
       "    <tr style=\"text-align: right;\">\n",
       "      <th></th>\n",
       "      <th>Monto</th>\n",
       "      <th>banco</th>\n",
       "      <th>resta aun en septiembre</th>\n",
       "      <th>Monto_total_mes</th>\n",
       "    </tr>\n",
       "    <tr>\n",
       "      <th>falta septiembre</th>\n",
       "      <th></th>\n",
       "      <th></th>\n",
       "      <th></th>\n",
       "      <th></th>\n",
       "    </tr>\n",
       "  </thead>\n",
       "  <tbody>\n",
       "    <tr>\n",
       "      <th>1.0</th>\n",
       "      <td>458.00</td>\n",
       "      <td>Bancomer</td>\n",
       "      <td>1.0</td>\n",
       "      <td>458.00</td>\n",
       "    </tr>\n",
       "    <tr>\n",
       "      <th>2.0</th>\n",
       "      <td>253.00</td>\n",
       "      <td>Bancomer</td>\n",
       "      <td>2.0</td>\n",
       "      <td>588.00</td>\n",
       "    </tr>\n",
       "    <tr>\n",
       "      <th>2.0</th>\n",
       "      <td>75.00</td>\n",
       "      <td>Bancomer</td>\n",
       "      <td>2.0</td>\n",
       "      <td>588.00</td>\n",
       "    </tr>\n",
       "    <tr>\n",
       "      <th>2.0</th>\n",
       "      <td>260.00</td>\n",
       "      <td>Bancomer</td>\n",
       "      <td>2.0</td>\n",
       "      <td>588.00</td>\n",
       "    </tr>\n",
       "    <tr>\n",
       "      <th>3.0</th>\n",
       "      <td>223.00</td>\n",
       "      <td>Bancomer</td>\n",
       "      <td>3.0</td>\n",
       "      <td>272.00</td>\n",
       "    </tr>\n",
       "    <tr>\n",
       "      <th>3.0</th>\n",
       "      <td>49.00</td>\n",
       "      <td>Bancomer</td>\n",
       "      <td>3.0</td>\n",
       "      <td>272.00</td>\n",
       "    </tr>\n",
       "    <tr>\n",
       "      <th>4.0</th>\n",
       "      <td>500.00</td>\n",
       "      <td>Bancomer</td>\n",
       "      <td>4.0</td>\n",
       "      <td>972.00</td>\n",
       "    </tr>\n",
       "    <tr>\n",
       "      <th>4.0</th>\n",
       "      <td>472.00</td>\n",
       "      <td>Bancomer</td>\n",
       "      <td>4.0</td>\n",
       "      <td>972.00</td>\n",
       "    </tr>\n",
       "    <tr>\n",
       "      <th>5.0</th>\n",
       "      <td>313.00</td>\n",
       "      <td>Bancomer</td>\n",
       "      <td>5.0</td>\n",
       "      <td>1857.76</td>\n",
       "    </tr>\n",
       "    <tr>\n",
       "      <th>5.0</th>\n",
       "      <td>482.86</td>\n",
       "      <td>Santander</td>\n",
       "      <td>5.0</td>\n",
       "      <td>1857.76</td>\n",
       "    </tr>\n",
       "    <tr>\n",
       "      <th>5.0</th>\n",
       "      <td>303.39</td>\n",
       "      <td>Santander</td>\n",
       "      <td>5.0</td>\n",
       "      <td>1857.76</td>\n",
       "    </tr>\n",
       "    <tr>\n",
       "      <th>5.0</th>\n",
       "      <td>649.60</td>\n",
       "      <td>Santander</td>\n",
       "      <td>5.0</td>\n",
       "      <td>1857.76</td>\n",
       "    </tr>\n",
       "    <tr>\n",
       "      <th>5.0</th>\n",
       "      <td>108.91</td>\n",
       "      <td>Santander</td>\n",
       "      <td>5.0</td>\n",
       "      <td>1857.76</td>\n",
       "    </tr>\n",
       "    <tr>\n",
       "      <th>6.0</th>\n",
       "      <td>151.00</td>\n",
       "      <td>Bancomer</td>\n",
       "      <td>6.0</td>\n",
       "      <td>980.00</td>\n",
       "    </tr>\n",
       "    <tr>\n",
       "      <th>6.0</th>\n",
       "      <td>149.00</td>\n",
       "      <td>Bancomer</td>\n",
       "      <td>6.0</td>\n",
       "      <td>980.00</td>\n",
       "    </tr>\n",
       "    <tr>\n",
       "      <th>6.0</th>\n",
       "      <td>130.00</td>\n",
       "      <td>Bancomer</td>\n",
       "      <td>6.0</td>\n",
       "      <td>980.00</td>\n",
       "    </tr>\n",
       "    <tr>\n",
       "      <th>6.0</th>\n",
       "      <td>110.00</td>\n",
       "      <td>Bancomer</td>\n",
       "      <td>6.0</td>\n",
       "      <td>980.00</td>\n",
       "    </tr>\n",
       "    <tr>\n",
       "      <th>6.0</th>\n",
       "      <td>41.00</td>\n",
       "      <td>Bancomer</td>\n",
       "      <td>6.0</td>\n",
       "      <td>980.00</td>\n",
       "    </tr>\n",
       "    <tr>\n",
       "      <th>6.0</th>\n",
       "      <td>281.00</td>\n",
       "      <td>Bancomer</td>\n",
       "      <td>6.0</td>\n",
       "      <td>980.00</td>\n",
       "    </tr>\n",
       "    <tr>\n",
       "      <th>6.0</th>\n",
       "      <td>118.00</td>\n",
       "      <td>Bancomer</td>\n",
       "      <td>6.0</td>\n",
       "      <td>980.00</td>\n",
       "    </tr>\n",
       "    <tr>\n",
       "      <th>11.0</th>\n",
       "      <td>1205.00</td>\n",
       "      <td>Bancomer</td>\n",
       "      <td>11.0</td>\n",
       "      <td>1205.00</td>\n",
       "    </tr>\n",
       "    <tr>\n",
       "      <th>14.0</th>\n",
       "      <td>245.00</td>\n",
       "      <td>Bancomer</td>\n",
       "      <td>14.0</td>\n",
       "      <td>245.00</td>\n",
       "    </tr>\n",
       "    <tr>\n",
       "      <th>16.0</th>\n",
       "      <td>500.00</td>\n",
       "      <td>Bancomer</td>\n",
       "      <td>16.0</td>\n",
       "      <td>500.00</td>\n",
       "    </tr>\n",
       "    <tr>\n",
       "      <th>NaN</th>\n",
       "      <td>361.06</td>\n",
       "      <td>Santander</td>\n",
       "      <td>NaN</td>\n",
       "      <td>NaN</td>\n",
       "    </tr>\n",
       "    <tr>\n",
       "      <th>NaN</th>\n",
       "      <td>197.06</td>\n",
       "      <td>Santander</td>\n",
       "      <td>NaN</td>\n",
       "      <td>NaN</td>\n",
       "    </tr>\n",
       "    <tr>\n",
       "      <th>NaN</th>\n",
       "      <td>221.08</td>\n",
       "      <td>Santander</td>\n",
       "      <td>NaN</td>\n",
       "      <td>NaN</td>\n",
       "    </tr>\n",
       "  </tbody>\n",
       "</table>\n",
       "</div>"
      ],
      "text/plain": [
       "                    Monto      banco  resta aun en septiembre  Monto_total_mes\n",
       "falta septiembre                                                              \n",
       "1.0                458.00   Bancomer                      1.0           458.00\n",
       "2.0                253.00   Bancomer                      2.0           588.00\n",
       "2.0                 75.00   Bancomer                      2.0           588.00\n",
       "2.0                260.00   Bancomer                      2.0           588.00\n",
       "3.0                223.00   Bancomer                      3.0           272.00\n",
       "3.0                 49.00   Bancomer                      3.0           272.00\n",
       "4.0                500.00   Bancomer                      4.0           972.00\n",
       "4.0                472.00   Bancomer                      4.0           972.00\n",
       "5.0                313.00   Bancomer                      5.0          1857.76\n",
       "5.0                482.86  Santander                      5.0          1857.76\n",
       "5.0                303.39  Santander                      5.0          1857.76\n",
       "5.0                649.60  Santander                      5.0          1857.76\n",
       "5.0                108.91  Santander                      5.0          1857.76\n",
       "6.0                151.00   Bancomer                      6.0           980.00\n",
       "6.0                149.00   Bancomer                      6.0           980.00\n",
       "6.0                130.00   Bancomer                      6.0           980.00\n",
       "6.0                110.00   Bancomer                      6.0           980.00\n",
       "6.0                 41.00   Bancomer                      6.0           980.00\n",
       "6.0                281.00   Bancomer                      6.0           980.00\n",
       "6.0                118.00   Bancomer                      6.0           980.00\n",
       "11.0              1205.00   Bancomer                     11.0          1205.00\n",
       "14.0               245.00   Bancomer                     14.0           245.00\n",
       "16.0               500.00   Bancomer                     16.0           500.00\n",
       "NaN                361.06  Santander                      NaN              NaN\n",
       "NaN                197.06  Santander                      NaN              NaN\n",
       "NaN                221.08  Santander                      NaN              NaN"
      ]
     },
     "execution_count": 69,
     "metadata": {},
     "output_type": "execute_result"
    }
   ],
   "source": [
    "resta_corto"
   ]
  },
  {
   "cell_type": "code",
   "execution_count": 90,
   "metadata": {
    "scrolled": false
   },
   "outputs": [],
   "source": [
    "resta_compr=resta_corto['Monto_total_mes']\n",
    "dff=resta_compr[::-1].groupby(resta_compr.index).cumsum()"
   ]
  },
  {
   "cell_type": "code",
   "execution_count": 98,
   "metadata": {},
   "outputs": [
    {
     "data": {
      "text/plain": [
       "Monto                                            779.2\n",
       "banco                      SantanderSantanderSantander\n",
       "resta aun en septiembre                              0\n",
       "Monto_total_mes                                      0\n",
       "dtype: object"
      ]
     },
     "execution_count": 98,
     "metadata": {},
     "output_type": "execute_result"
    }
   ],
   "source": [
    "resta_corto.loc[np.nan].sum()"
   ]
  },
  {
   "cell_type": "code",
   "execution_count": 124,
   "metadata": {},
   "outputs": [
    {
     "data": {
      "text/html": [
       "<div>\n",
       "<style scoped>\n",
       "    .dataframe tbody tr th:only-of-type {\n",
       "        vertical-align: middle;\n",
       "    }\n",
       "\n",
       "    .dataframe tbody tr th {\n",
       "        vertical-align: top;\n",
       "    }\n",
       "\n",
       "    .dataframe thead th {\n",
       "        text-align: right;\n",
       "    }\n",
       "</style>\n",
       "<table border=\"1\" class=\"dataframe\">\n",
       "  <thead>\n",
       "    <tr style=\"text-align: right;\">\n",
       "      <th></th>\n",
       "      <th>falta septiembre</th>\n",
       "      <th>Monto_total_mes</th>\n",
       "      <th>queda_despues_msi</th>\n",
       "      <th>queda_despues_Gaby_Vivi_Mama</th>\n",
       "    </tr>\n",
       "  </thead>\n",
       "  <tbody>\n",
       "    <tr>\n",
       "      <th>0</th>\n",
       "      <td>16.0</td>\n",
       "      <td>1279.20</td>\n",
       "      <td>20720.80</td>\n",
       "      <td>13720.80</td>\n",
       "    </tr>\n",
       "    <tr>\n",
       "      <th>1</th>\n",
       "      <td>14.0</td>\n",
       "      <td>1524.20</td>\n",
       "      <td>20475.80</td>\n",
       "      <td>13475.80</td>\n",
       "    </tr>\n",
       "    <tr>\n",
       "      <th>2</th>\n",
       "      <td>11.0</td>\n",
       "      <td>2729.20</td>\n",
       "      <td>19270.80</td>\n",
       "      <td>12270.80</td>\n",
       "    </tr>\n",
       "    <tr>\n",
       "      <th>3</th>\n",
       "      <td>6.0</td>\n",
       "      <td>3709.20</td>\n",
       "      <td>18290.80</td>\n",
       "      <td>11290.80</td>\n",
       "    </tr>\n",
       "    <tr>\n",
       "      <th>4</th>\n",
       "      <td>5.0</td>\n",
       "      <td>5566.96</td>\n",
       "      <td>16433.04</td>\n",
       "      <td>9433.04</td>\n",
       "    </tr>\n",
       "    <tr>\n",
       "      <th>5</th>\n",
       "      <td>4.0</td>\n",
       "      <td>6538.96</td>\n",
       "      <td>15461.04</td>\n",
       "      <td>8461.04</td>\n",
       "    </tr>\n",
       "    <tr>\n",
       "      <th>6</th>\n",
       "      <td>3.0</td>\n",
       "      <td>6810.96</td>\n",
       "      <td>15189.04</td>\n",
       "      <td>8189.04</td>\n",
       "    </tr>\n",
       "    <tr>\n",
       "      <th>7</th>\n",
       "      <td>2.0</td>\n",
       "      <td>7398.96</td>\n",
       "      <td>14601.04</td>\n",
       "      <td>7601.04</td>\n",
       "    </tr>\n",
       "    <tr>\n",
       "      <th>8</th>\n",
       "      <td>1.0</td>\n",
       "      <td>7856.96</td>\n",
       "      <td>14143.04</td>\n",
       "      <td>7143.04</td>\n",
       "    </tr>\n",
       "  </tbody>\n",
       "</table>\n",
       "</div>"
      ],
      "text/plain": [
       "   falta septiembre  Monto_total_mes  queda_despues_msi  \\\n",
       "0              16.0          1279.20           20720.80   \n",
       "1              14.0          1524.20           20475.80   \n",
       "2              11.0          2729.20           19270.80   \n",
       "3               6.0          3709.20           18290.80   \n",
       "4               5.0          5566.96           16433.04   \n",
       "5               4.0          6538.96           15461.04   \n",
       "6               3.0          6810.96           15189.04   \n",
       "7               2.0          7398.96           14601.04   \n",
       "8               1.0          7856.96           14143.04   \n",
       "\n",
       "   queda_despues_Gaby_Vivi_Mama  \n",
       "0                      13720.80  \n",
       "1                      13475.80  \n",
       "2                      12270.80  \n",
       "3                      11290.80  \n",
       "4                       9433.04  \n",
       "5                       8461.04  \n",
       "6                       8189.04  \n",
       "7                       7601.04  \n",
       "8                       7143.04  "
      ]
     },
     "execution_count": 124,
     "metadata": {},
     "output_type": "execute_result"
    }
   ],
   "source": [
    "restos=resta_compr[::-1].dropna().drop_duplicates().cumsum() #faltan los montos asociados a na\n",
    "restosCOTA=restos+779.2 #este monto se rectificacomprobando los montos que dicen NA\n",
    "r=restosCOTA.reset_index()\n",
    "r['queda_despues_msi']=22000-r['Monto_total_mes']\n",
    "#r.drop('queda_despues',axis=1)\n",
    "r['queda_despues_Gaby_Vivi_Mama']=r['queda_despues_msi']-(3200+3000+800)\n",
    "r"
   ]
  },
  {
   "cell_type": "code",
   "execution_count": 116,
   "metadata": {},
   "outputs": [
    {
     "data": {
      "text/plain": [
       "array([20720.8, 20475.8, 19270.8, 18290.8, 16433.04, 15461.04, 15189.04,\n",
       "       14601.04, 14143.04,\n",
       "       array([1279.2 , 1524.2 , 2729.2 , 3709.2 , 5566.96, 6538.96, 6810.96,\n",
       "       7398.96, 7856.96])], dtype=object)"
      ]
     },
     "execution_count": 116,
     "metadata": {},
     "output_type": "execute_result"
    }
   ],
   "source": [
    "restosCOTA['queda despues de msi']=22000-restosCOTA.values\n",
    "restosCOTA['queda despues de msi']"
   ]
  },
  {
   "cell_type": "code",
   "execution_count": 125,
   "metadata": {},
   "outputs": [
    {
     "data": {
      "text/plain": [
       "15000"
      ]
     },
     "execution_count": 125,
     "metadata": {},
     "output_type": "execute_result"
    }
   ],
   "source": [
    "22000-(3200+3000+800)"
   ]
  },
  {
   "cell_type": "code",
   "execution_count": 128,
   "metadata": {},
   "outputs": [
    {
     "data": {
      "text/plain": [
       "552.0400000000009"
      ]
     },
     "execution_count": 128,
     "metadata": {},
     "output_type": "execute_result"
    }
   ],
   "source": [
    "836.94+8950.50+2547.16 -12381-10401.56+11000"
   ]
  },
  {
   "cell_type": "code",
   "execution_count": 103,
   "metadata": {},
   "outputs": [],
   "source": [
    "import matplotlib as mpl\n",
    "import matplotlib.pyplot as plt\n"
   ]
  },
  {
   "cell_type": "code",
   "execution_count": 107,
   "metadata": {},
   "outputs": [
    {
     "data": {
      "image/png": "[encoded data removed]",
      "text/plain": [
       "<Figure size 432x288 with 1 Axes>"
      ]
     },
     "metadata": {
      "needs_background": "light"
     },
     "output_type": "display_data"
    }
   ],
   "source": [
    "restosCOTA[::-1].plot(kind='bar');"
   ]
  },
  {
   "cell_type": "code",
   "execution_count": null,
   "metadata": {},
   "outputs": [],
   "source": []
  },
  {
   "cell_type": "code",
   "execution_count": 91,
   "metadata": {},
   "outputs": [
    {
     "data": {
      "text/plain": [
       "falta septiembre\n",
       "NaN          NaN\n",
       "NaN          NaN\n",
       "NaN          NaN\n",
       "16.0      500.00\n",
       "14.0      245.00\n",
       "11.0     1450.00\n",
       "6.0       980.00\n",
       "6.0      1960.00\n",
       "6.0       980.00\n",
       "6.0      1960.00\n",
       "6.0      2940.00\n",
       "6.0      3920.00\n",
       "6.0      4900.00\n",
       "5.0      1857.76\n",
       "5.0      3715.52\n",
       "5.0      5573.28\n",
       "5.0      7431.04\n",
       "5.0      9288.80\n",
       "4.0     10260.80\n",
       "4.0     11232.80\n",
       "3.0       272.00\n",
       "3.0       272.00\n",
       "2.0       588.00\n",
       "2.0          NaN\n",
       "2.0          NaN\n",
       "1.0          NaN\n",
       "Name: Monto_total_mes, dtype: float64"
      ]
     },
     "execution_count": 91,
     "metadata": {},
     "output_type": "execute_result"
    }
   ],
   "source": [
    "dff"
   ]
  },
  {
   "cell_type": "code",
   "execution_count": null,
   "metadata": {},
   "outputs": [],
   "source": []
  }
 ],
 "metadata": {
  "kernelspec": {
   "display_name": "Python 3",
   "language": "python",
   "name": "python3"
  },
  "language_info": {
   "codemirror_mode": {
    "name": "ipython",
    "version": 3
   },
   "file_extension": ".py",
   "mimetype": "text/x-python",
   "name": "python",
   "nbconvert_exporter": "python",
   "pygments_lexer": "ipython3",
   "version": "3.6.8"
  }
 },
 "nbformat": 4,
 "nbformat_minor": 2
}
